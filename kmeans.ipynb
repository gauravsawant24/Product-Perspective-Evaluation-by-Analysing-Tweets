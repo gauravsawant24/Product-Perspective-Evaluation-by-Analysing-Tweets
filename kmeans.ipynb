{
 "cells": [
  {
   "cell_type": "code",
   "execution_count": 10,
   "metadata": {},
   "outputs": [
    {
     "name": "stdout",
     "output_type": "stream",
     "text": [
      "10057\n",
      "my first selfie on my new iphone xs #selfie #shamelessselfie iphonexs https://t.co/4iymllouj5\n",
      "10057\n"
     ]
    }
   ],
   "source": [
    "import pandas as pd\n",
    "from sklearn.feature_extraction.text import TfidfVectorizer\n",
    "import numpy as np\n",
    "from sklearn.multiclass import OneVsRestClassifier\n",
    "import logging\n",
    "import json\n",
    "from nltk.cluster import KMeansClusterer, \\\n",
    "cosine_distance\n",
    "from sklearn import metrics\n",
    "from numpy.random import shuffle\n",
    "from sklearn.feature_extraction.text import CountVectorizer, ENGLISH_STOP_WORDS\n",
    "import matplotlib.pyplot as plt\n",
    "import math\n",
    "from sklearn.cluster import KMeans\n",
    "# change fileName to test output for different files\n",
    "file='iPhoneXS_twitter_eda.csv'\n",
    "\n",
    "nClusters=3\n",
    "data = pd.read_csv(file)\n",
    "print(len(data))\n",
    "print(data['text'][1])\n",
    "print(len(data['Labels']))"
   ]
  },
  {
   "cell_type": "code",
   "execution_count": 11,
   "metadata": {},
   "outputs": [
    {
     "name": "stdout",
     "output_type": "stream",
     "text": [
      "(10057, 2357)\n"
     ]
    }
   ],
   "source": [
    "EXTRA_STOP_WORDS = [\"http\", \"https\", \"iphone\", \"apple\", \"iphonexr\", \"xr\", \"vs\", \"iphonexsmax\",\n",
    "                        \"enter\", \"chance\", \"win\", \"64\", \"gb\", \"via\", \"youtube\", \"comparison\", \"new\", \"appreciated\"]\n",
    "stopwords = ENGLISH_STOP_WORDS.union(EXTRA_STOP_WORDS)\n",
    "\n",
    "tfidf_vect = TfidfVectorizer(stop_words=stopwords,min_df=5)\n",
    "dtm = tfidf_vect.fit_transform(data['text'])\n",
    "print(dtm.shape)\n",
    "voc_lookup = tfidf_vect.get_feature_names()"
   ]
  },
  {
   "cell_type": "code",
   "execution_count": 12,
   "metadata": {},
   "outputs": [
    {
     "name": "stdout",
     "output_type": "stream",
     "text": [
      "[1 1 1 ... 1 1 0]\n",
      "[[0.         0.         0.         ... 0.         0.         0.        ]\n",
      " [0.00038899 0.00201149 0.00022186 ... 0.00043469 0.00051787 0.00133899]\n",
      " [0.         0.         0.         ... 0.         0.         0.        ]]\n"
     ]
    }
   ],
   "source": [
    "km = KMeans(n_clusters=nClusters,n_init=20).fit(dtm)\n",
    "clusters = km.labels_.tolist()\n",
    "print(km.labels_)\n",
    "\n",
    "centroidsskl = km.cluster_centers_\n",
    "print(centroidsskl)\n",
    "sorted_centroidsskl = centroidsskl.argsort()[:, ::-1]"
   ]
  },
  {
   "cell_type": "code",
   "execution_count": 13,
   "metadata": {},
   "outputs": [
    {
     "name": "stdout",
     "output_type": "stream",
     "text": [
      "[0 0 0 ... 0 0 1]\n",
      "[[0.00038899 0.00201149 0.00022186 ... 0.00043469 0.00051787 0.00133899]\n",
      " [0.         0.         0.         ... 0.         0.         0.        ]\n",
      " [0.         0.         0.         ... 0.         0.         0.        ]]\n"
     ]
    }
   ],
   "source": [
    "km = KMeans(n_clusters=nClusters,n_init=20).fit(dtm)\n",
    "clusters = km.labels_.tolist()\n",
    "print(km.labels_)\n",
    "\n",
    "centroidsskl = km.cluster_centers_\n",
    "print(centroidsskl)\n",
    "sorted_centroidsskl = centroidsskl.argsort()[:, ::-1]"
   ]
  },
  {
   "cell_type": "code",
   "execution_count": 16,
   "metadata": {},
   "outputs": [
    {
     "name": "stdout",
     "output_type": "stream",
     "text": [
      "label     1.0  2.0  3.0\n",
      "clusters               \n",
      "0          24   69   34\n",
      "1           0    0   19\n",
      "2           0    0    4\n",
      "<class 'list'> <class 'pandas.core.series.Series'>\n",
      "150\n",
      "150\n",
      "<class 'int'>\n",
      "             precision    recall  f1-score   support\n",
      "\n",
      "          1       0.19      1.00      0.32        24\n",
      "          2       0.00      0.00      0.00        69\n",
      "          3       1.00      0.07      0.13        57\n",
      "\n",
      "avg / total       0.41      0.19      0.10       150\n",
      "\n"
     ]
    },
    {
     "data": {
      "image/png": "[encoded data removed]",
      "text/plain": [
       "<matplotlib.figure.Figure at 0x23a7b177d30>"
      ]
     },
     "metadata": {},
     "output_type": "display_data"
    }
   ],
   "source": [
    "clusters = clusters[0:150]\n",
    "labels=data['Labels'][0:150]\n",
    "datum=pd.DataFrame()\n",
    "datum[\"label\"]=labels\n",
    "datum[\"clusters\"]=clusters\n",
    "print(pd.crosstab(index=datum['clusters'], columns=datum['label']))\n",
    "\n",
    "cluster_dict = {0: 1,\n",
    "                1: 2,\n",
    "                2: 3\n",
    "                }\n",
    "target = [cluster_dict[i] for i in clusters]\n",
    "print(type(target),type(labels))\n",
    "labelList=[]\n",
    "mylables=labels.tolist()\n",
    "for i in mylables:\n",
    "    labelList.append(int(i))\n",
    "\n",
    "print(len(labelList))\n",
    "print(len(target))\n",
    "print(type(target[0]))\n",
    "# Assign true class to cluster\n",
    "print(metrics.classification_report(labelList, target))\n",
    "plt.plot(km.labels_,data['created_at'])\n",
    "plt.show()"
   ]
  },
  {
   "cell_type": "code",
   "execution_count": null,
   "metadata": {},
   "outputs": [],
   "source": []
  }
 ],
 "metadata": {
  "kernelspec": {
   "display_name": "Python 3",
   "language": "python",
   "name": "python3"
  },
  "language_info": {
   "codemirror_mode": {
    "name": "ipython",
    "version": 3
   },
   "file_extension": ".py",
   "mimetype": "text/x-python",
   "name": "python",
   "nbconvert_exporter": "python",
   "pygments_lexer": "ipython3",
   "version": "3.6.4"
  }
 },
 "nbformat": 4,
 "nbformat_minor": 1
}
