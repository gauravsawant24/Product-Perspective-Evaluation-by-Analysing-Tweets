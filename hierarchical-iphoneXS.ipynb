{
 "cells": [
  {
   "cell_type": "code",
   "execution_count": null,
   "metadata": {},
   "outputs": [
    {
     "name": "stdout",
     "output_type": "stream",
     "text": [
      "(10057, 2374)\n",
      "             precision    recall  f1-score   support\n",
      "\n",
      "        1.0       0.19      1.00      0.32        24\n",
      "        2.0       0.00      0.00      0.00        69\n",
      "        3.0       1.00      0.07      0.13        57\n",
      "\n",
      "avg / total       0.41      0.19      0.10       150\n",
      "\n"
     ]
    }
   ],
   "source": [
    "# how to form the clusters in the end?\n",
    "import matplotlib.pyplot as plt \n",
    "from sklearn.cluster import AgglomerativeClustering\n",
    "import scipy.cluster.hierarchy as shc\n",
    "import pandas as pd  \n",
    "%matplotlib inline\n",
    "import numpy as np \n",
    "from sklearn.feature_extraction.text import TfidfVectorizer\n",
    "from sklearn import metrics\n",
    "from nltk.corpus import stopwords\n",
    "from nltk.cluster import KMeansClusterer,cosine_distance\n",
    "from scipy.cluster.hierarchy import ward, dendrogram\n",
    "#loading the CSV file into the dataframe\n",
    "data = pd.read_csv('Downloads/iPhoneXS_twitter_eda.csv')  \n",
    "tfidf_vect = TfidfVectorizer(stop_words=\"english\",\\\n",
    "                             min_df=5) \n",
    "dtm= tfidf_vect.fit_transform(data[\"text\"])\n",
    "print(dtm.shape)\n",
    "\n",
    "#initialising the cluster where the number of clusters is set to 3 ,distance used is euclidean \n",
    "#and linkage used is ward.\n",
    "clusterer = AgglomerativeClustering(n_clusters=3, affinity='euclidean', linkage='ward')  \n",
    "\n",
    "#plotting the dendrogram for the clusters\n",
    "plt.figure(figsize=(10, 7))  \n",
    "plt.title(\"IPhone Dendograms\")  \n",
    "dend = shc.dendrogram(shc.linkage(dtm.toarray(), method='ward')) \n",
    "clusterer.fit(dtm.toarray()) \n",
    "data[\"cluster\"]=clusterer.labels_\n",
    "pd.crosstab( index=data.cluster[0:150], columns=data.labels[0:150])\n",
    "\n",
    "#defining the cluster dictionary\n",
    "cluster_dict={0:1,1:3,2:2}\n",
    "\n",
    "# Assign true class to cluster\n",
    "predicted_clusters=[cluster_dict[i] for i in clusterer.labels_[0:150]]\n",
    "\n",
    "# generating the metrics report\n",
    "print(metrics.classification_report(data.labels[0:150], predicted_clusters))"
   ]
  },
  {
   "cell_type": "code",
   "execution_count": null,
   "metadata": {},
   "outputs": [],
   "source": []
  },
  {
   "cell_type": "code",
   "execution_count": null,
   "metadata": {},
   "outputs": [],
   "source": []
  },
  {
   "cell_type": "code",
   "execution_count": null,
   "metadata": {},
   "outputs": [],
   "source": []
  }
 ],
 "metadata": {
  "kernelspec": {
   "display_name": "Python 3",
   "language": "python",
   "name": "python3"
  },
  "language_info": {
   "codemirror_mode": {
    "name": "ipython",
    "version": 3
   },
   "file_extension": ".py",
   "mimetype": "text/x-python",
   "name": "python",
   "nbconvert_exporter": "python",
   "pygments_lexer": "ipython3",
   "version": "3.6.5"
  }
 },
 "nbformat": 4,
 "nbformat_minor": 2
}
